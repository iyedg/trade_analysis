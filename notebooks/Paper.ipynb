{
 "cells": [
  {
   "cell_type": "markdown",
   "metadata": {},
   "source": [
    "# USA Trade Policy and Economic complexity: The Case of NAFTA and China "
   ]
  },
  {
   "cell_type": "markdown",
   "metadata": {},
   "source": [
    "At 19.39 Trillion USD, the USA economy is the largest in the world <cite data-cite=\"6513277/QAVC8Q54\"></cite>. Despite controversial measures focusing on renegotiating Free Trade Agreements out of its 14 that are in force (e.g. NAFTA), the US economy continues to expand for the 9th consecutive year <cite data-cite=\"6513277/962Y6D36\"></cite>.\n",
    "\n",
    "The US is both one of world’s largest exporters and largest importers. Its exports in Merchandise trade total %8.72 of the world total, while its exports in commercial services come at %14.43 of the world total <cite data-cite=\"6513277/QAVC8Q54\"></cite>. Their exports of machinery and mechanical exports is the largest, at about a quarter of their merchandise exports. "
   ]
  },
  {
   "cell_type": "markdown",
   "metadata": {},
   "source": [
    "<span class=\"mark\">Trade Flows\n",
    "Measure openness, sectoral indicators, concentration, offshoring, services indicators, GAFA, etc … \n",
    "Comparative advantage\n",
    "Make sure to compare to a benchmark \n",
    "Trade complementarity within NAFTA and with China\n",
    "Trade agreements (check if belongs here)\n",
    "Tariff analysis\n",
    "Tariff distribution plot\n",
    "Gravity model\n",
    "Interpret regression results for the model as is in the book \n",
    "Include economic complexity \n",
    "Fixed effects model</span>\n",
    "\n"
   ]
  },
  {
   "cell_type": "code",
   "execution_count": null,
   "metadata": {},
   "outputs": [],
   "source": []
  }
 ],
 "metadata": {
  "celltoolbar": "Edit Metadata",
  "cite2c": {
   "citations": {
    "6513277/6U7IMPB9": {
     "URL": "https://www.wto.org/english/tratop_e/tpr_e/tp_rep_e.htm",
     "accessed": {
      "date-parts": [
       [
        2019,
        6,
        14
       ]
      ]
     },
     "note": "00000",
     "title": "WTO | Trade Policy Reviews - List of reviews",
     "type": "webpage"
    },
    "6513277/962Y6D36": {
     "URL": "https://docs.wto.org/dol2fe/Pages/FE_Search/DDFDocuments/252733/q/WT/TPR/S382R1.pdf",
     "author": [
      {
       "family": "WTO secretariat",
       "given": ""
      }
     ],
     "id": "6513277/962Y6D36",
     "issued": {
      "day": 27,
      "month": 3,
      "year": 2019
     },
     "note": "00000",
     "title": "Trade policy review - United States",
     "type": "article"
    },
    "6513277/QAVC8Q54": {
     "URL": "http://stat.wto.org/CountryProfile/WSDBCountryPFView.aspx?Language=E&Country=CA%2cMX%2cTN%2cUS%2cCN",
     "accessed": {
      "day": 14,
      "month": 6,
      "year": 2019
     },
     "id": "6513277/QAVC8Q54",
     "note": "00103",
     "title": "Trade Profiles - United States of America",
     "type": "webpage"
    }
   }
  },
  "kernelspec": {
   "display_name": "Python 3",
   "language": "python",
   "name": "python3"
  },
  "language_info": {
   "codemirror_mode": {
    "name": "ipython",
    "version": 3
   },
   "file_extension": ".py",
   "mimetype": "text/x-python",
   "name": "python",
   "nbconvert_exporter": "python",
   "pygments_lexer": "ipython3",
   "version": "3.6.7"
  },
  "toc": {
   "base_numbering": 1,
   "nav_menu": {},
   "number_sections": true,
   "sideBar": true,
   "skip_h1_title": false,
   "title_cell": "Table of Contents",
   "title_sidebar": "Contents",
   "toc_cell": false,
   "toc_position": {},
   "toc_section_display": true,
   "toc_window_display": false
  }
 },
 "nbformat": 4,
 "nbformat_minor": 2
}
