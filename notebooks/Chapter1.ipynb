{
 "cells": [
  {
   "cell_type": "markdown",
   "metadata": {},
   "source": [
    "**Directory definitions**"
   ]
  },
  {
   "cell_type": "code",
   "execution_count": null,
   "metadata": {
    "hide_input": true
   },
   "outputs": [],
   "source": [
    "# global input = \"F:\\School\\Trade Analysis\\Practical guide to TPA\\Practical guide to TPA\""
   ]
  },
  {
   "cell_type": "markdown",
   "metadata": {},
   "source": [
    "# Analyzing trade flows\n",
    "## Overview and learning objectives\n",
    "* The discussion is organized around\n",
    "    * how much\n",
    "    * what\n",
    "    * with whom\n",
    "\n",
    "  a country trades\n",
    "* Indices and measures include:\n",
    "    * openness:\n",
    "        * at the aggregate level\n",
    "        * at the industry level (the “import content of exports” and various measures of trade in parts and components).\n",
    "    * the concept of comparative advantage:\n",
    "        * revealed comparative advantage indexes\n",
    "        * revealed technology\n",
    "        * factor-intensity indexes\n",
    "    * Intra-industy trade *IIT* paradigm *(Brander and Krugman's reciprocal-dumping)*\n",
    "* Analyze and display data on:\n",
    "    * sectoral composition and structural characteristics of trade\n",
    "    * intra-industry trade\n",
    "    * export diversification\n",
    "    * margins of export growth.\n",
    "* Geographical composition of a country’s foreign trade and its complementarity with its trading partners."
   ]
  },
  {
   "cell_type": "markdown",
   "metadata": {},
   "source": [
    "# Overall openness"
   ]
  },
  {
   "cell_type": "markdown",
   "metadata": {},
   "source": [
    "## Trade over GDP measure"
   ]
  },
  {
   "cell_type": "markdown",
   "metadata": {},
   "source": [
    "let $O^i$ be a measure of openness.\n",
    "\n",
    "$$O^i = \\frac{X^i+M^i}{Y^i}$$\n",
    "\n",
    "<div class=\"alert alert-info\" role=\"alert\">\n",
    "    <ul>\n",
    "        <li>$X^i$ is the total exports of country $i$</li>\n",
    "        <li>$M^i$ is the total imports of country $i$</li>\n",
    "         <li>$Y^i$ is the GDP of country $i$</li>\n",
    "    </ul>\n",
    "</div>"
   ]
  },
  {
   "cell_type": "markdown",
   "metadata": {},
   "source": [
    "The higher $O^i$ the more open the country.\n",
    "\n",
    "<div class=\"alert alert-danger\" role=\"alert\">\n",
    "This indicator suffers from limitations such as the <span class=\"bg-warning text-white\">systematic variation with levels of income</span> (as measured by GDP for instance) and / or <span class=\"bg-warning text-white\">geographical location </span><i>(e.g. landlocked-ness)</i>. <span class=\"text-warning bg-warning\">Whats the problem with that ?</span> <span class=\"bg-success text-white\">$\\Longrightarrow$ Two reasons this is problematic: measurement and logic</span>.\n",
    "</div>\n",
    "\n",
    "\n",
    "### Measurement issue\n",
    "\n",
    "Such a measure of openness embodies other information about the country that make it unsuitable for cross-country comparisons without adjustment *(control)*\n",
    "\n",
    "> <span style=\"font-size:1.1em\">For instance, Belgium has a higher ratio of trade to GDP than the United States, but this is mainly because the United States is a larger economy and therefore trades more with itself.</span>\n",
    "\n",
    "### Logic issue\n",
    "\n",
    "Using this measure of openness as an **explanatory** variable in a regression analysis where the dependent is **economic growth** would require <u>*cleansing* </u> from influences that may embody either *reverse causality* from growth to openness or omitted variables *e.g. quality of government*. $\\Longrightarrow$ **<span style=\"color:#ff1744;\">endogeneity bias</span>**\n",
    "\n",
    "### Mitigating these issues\n",
    "\n",
    "One must use **Instrumental variables** that correlate with openness but do not influence income except through openness."
   ]
  },
  {
   "cell_type": "markdown",
   "metadata": {},
   "source": [
    "## Import content of exports and external orientation\n",
    "\n",
    "The import content of exports is a measure of the *outward orientation* of an exporting **industry**."
   ]
  },
  {
   "cell_type": "markdown",
   "metadata": {},
   "source": [
    "* Import-penetration ratio for good $j$ in year $t$\n",
    "\n",
    "$$\n",
    "\\mu_{jt} = \\frac{m_{jt}}{c_{jt}}\n",
    "$$\n",
    "\n",
    "<div class=\"alert alert-info\" role=\"alert\">\n",
    "    <ul>\n",
    "        <li>$m_{jt}$ imports of good $j$ in year $t$</li>\n",
    "        <li>$c_{jt}$ domestic consumption (final demand) for good  $j$ in year $t$</li>\n",
    "    </ul>\n",
    "</div>\n",
    "\n",
    "* Imported input share of industry $k$ in year $t$\n",
    "\n",
    "$$\n",
    "\\alpha_{kt} = \\frac{\\displaystyle \\sum_{j=1}^n \\mu_{kt} \\overbrace{Z_{jk}}^{\\text{consumption of good $j$ as an intermediate}}}{\\underbrace{Y_{kt}}_{\\text{output of good $j$ as an intermediate}}}\n",
    "$$"
   ]
  },
  {
   "cell_type": "markdown",
   "metadata": {},
   "source": [
    "## Trade in intermediate goods\n",
    "\n",
    "A measure of the integration of an industry can be measured by the trade in <u>*parts and components*</u> along with the related *international fragmentation of production*\n",
    "\n",
    "<div class=\"alert alert-info\" role=\"alert\">\n",
    "    <h4 class=\"alert-heading\">Offshoring</h4>\n",
    "    <p>Offshoring is the foreign sourcing of intermediate inputs</p>\n",
    "</div>\n",
    "\n",
    "<div class=\"alert alert-warning\" role=\"alert\">\n",
    "    Read page 20 C. again and clarify the relationship between title and <b>Offshoring</b>\n",
    "</div>\n",
    "\n",
    "## Offshoring\n",
    "## Vertical specialization"
   ]
  },
  {
   "cell_type": "markdown",
   "metadata": {},
   "source": [
    "## Trade composition\n",
    "### Sectoral and geographical orientation of trade\n",
    "\n",
    "Analysis of sectoral orientation of trade may reveal constraints to growth that are not apparent at the aggregate level.\n",
    "\n",
    "Analysis of geographical composition helps ot think about export-promotion strategies. It provides useful input in the analysis of regional integration. <span class=\"text-warning bg-danger\">NAFTA ?</span>\n",
    "\n",
    "<div class=\"alert alert-danger\">One can go a step\n",
    "further and assess to what extent a country’s export orientation is favourable, i.e. to what extent the\n",
    "country exports in sectors and toward partners that have experienced faster import growth.12</div>"
   ]
  },
  {
   "cell_type": "markdown",
   "metadata": {},
   "source": [
    "### Intra-industry trade\n",
    "\n",
    "The importance of intra-industry trade is the *Grubel-Lloyd (GL)* index.\n",
    "\n",
    "$$\n",
    "GL_k^{ij} = 1 - \\frac{|X_k^{ij} - M_k^{ij}|}{X_k^{ij} + M_k^{ij}}\n",
    "$$\n",
    "\n",
    "<div class=\"alert alert-info\" role=\"alert\">\n",
    "    <ul>\n",
    "        <li>$X_k^{ij}$ is $i$'s exports to $j$ of good (or in sector) $k$</li>\n",
    "        <li>$M_k^{ij}$ is $i$'s imports from $j$ of good (or in sector) $k$</li>\n",
    "    </ul>\n",
    "    <p>The closer the values of $X_k^{ij}$ and $M_k^{ij}$, the closer the less the value substracted from 1 on the right $\\Longrightarrow$ the closer the index to 1</p>\n",
    "</div>\n",
    "\n",
    "<div class=\"alert alert-warning\" role=\"alert\">\n",
    "    GL indices should however be interpreted cautiously. First, they rise with aggregation (i.e. they are\n",
    "lower when calculated at more detailed levels), so comparisons require calculations at similar levels\n",
    "of aggregation.15\n",
    "\n",
    "More problematically, unless calculated at extremely fine degrees of disaggregation\n",
    "GL indices can pick up “vertical trade”, a phenomenon that has little to do with convergence and\n",
    "monopolistic competition. If, say, Germany exports car parts (powertrains, gearboxes, braking modules)\n",
    "to the Czech Republic which then exports assembled cars to Germany, a GL index calculated at\n",
    "an aggregate level will report lots of intra-industry trade in the automobile sector between the two\n",
    "countries; but this is really <b>“Heckscher-Ohlin trade”</b> driven by lower labour costs in the Czech Republic\n",
    "(assembly is more labour-intensive than component manufacturing, so according to comparative\n",
    "advantage it should be located in the Czech Republic rather than Germany).16\n",
    "</div>"
   ]
  }
 ],
 "metadata": {
  "jupytext": {
   "encoding": "# -*- coding: utf-8 -*-",
   "formats": "ipynb,py:percent"
  },
  "kernelspec": {
   "display_name": "Python 3",
   "language": "python",
   "name": "python3"
  },
  "language_info": {
   "codemirror_mode": {
    "name": "ipython",
    "version": 3
   },
   "file_extension": ".py",
   "mimetype": "text/x-python",
   "name": "python",
   "nbconvert_exporter": "python",
   "pygments_lexer": "ipython3",
   "version": "3.6.7"
  },
  "toc": {
   "base_numbering": 1,
   "nav_menu": {},
   "number_sections": true,
   "sideBar": true,
   "skip_h1_title": false,
   "title_cell": "Table of Contents",
   "title_sidebar": "Contents",
   "toc_cell": false,
   "toc_position": {},
   "toc_section_display": true,
   "toc_window_display": false
  }
 },
 "nbformat": 4,
 "nbformat_minor": 2
}
