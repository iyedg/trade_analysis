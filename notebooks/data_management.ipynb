{
 "cells": [
  {
   "cell_type": "markdown",
   "metadata": {},
   "source": [
    "[The Atlas of Economic Complexity - Harvard](https://intl-atlas-downloads.s3.amazonaws.com/data_17_0.h5)\n",
    "\n",
    "[Gravity Portal: Dynamic Gravity Dataset](https://www.usitc.gov/data/gravity/dataset.htm)"
   ]
  },
  {
   "cell_type": "code",
   "execution_count": 1,
   "metadata": {},
   "outputs": [],
   "source": [
    "import tables as tb\n",
    "import pandas as pd"
   ]
  },
  {
   "cell_type": "code",
   "execution_count": 2,
   "metadata": {},
   "outputs": [],
   "source": [
    "in_f = \"../data/data_17_0.h5\"\n",
    "out_f = \"../data/transformed_data.h5\"\n",
    "keys_columns = {\n",
    "    \"/classifications/hs_product\": [\n",
    "        \"code\",\n",
    "        \"name\",\n",
    "        \"level\",\n",
    "        \"name_en\",\n",
    "        \"name_short_en\",\n",
    "        \"parent_id\",\n",
    "    ],\n",
    "    \"/classifications/location\": [\n",
    "        \"code\",\n",
    "        \"level\",\n",
    "        \"name_en\",\n",
    "        \"name_short_en\",\n",
    "        \"iso2\",\n",
    "        \"parent_id\",\n",
    "        \"name\",\n",
    "    ],\n",
    "    \"/country\": [\n",
    "        \"location_id\",\n",
    "        \"export_value\",\n",
    "        \"import_value\",\n",
    "        \"gdp_year\",\n",
    "        \"gdppc_year\",\n",
    "        \"gdp_ppp_year\",\n",
    "        \"gdppc_ppp_year\",\n",
    "        \"population_year\",\n",
    "    ],\n",
    "    \"/country_hsproduct2digit_year\": [\"location_id\", \"product_id\", \"year\"],\n",
    "    \"/country_hsproduct4digit_year\": [\"location_id\", \"product_id\", \"year\"],\n",
    "    \"/country_hsproduct6digit_year\": [\"location_id\", \"product_id\", \"year\"],\n",
    "    \"/country_hsproductsection_year\": [\"location_id\", \"product_id\", \"year\"],\n",
    "    \"/country_partner_hsproduct2digit_year\": [\n",
    "        \"location_id\",\n",
    "        \"product_id\",\n",
    "        \"year\",\n",
    "        \"partner_id\",\n",
    "    ],\n",
    "    \"/country_partner_hsproduct4digit_year\": [\n",
    "        \"location_id\",\n",
    "        \"product_id\",\n",
    "        \"year\",\n",
    "        \"partner_id\",\n",
    "    ],\n",
    "    \"/country_partner_hsproduct6digit_year\": [\n",
    "        \"location_id\",\n",
    "        \"product_id\",\n",
    "        \"year\",\n",
    "        \"partner_id\",\n",
    "    ],\n",
    "    \"/country_partner_hsproductsection_year\": [\n",
    "        \"location_id\",\n",
    "        \"product_id\",\n",
    "        \"year\",\n",
    "        \"partner_id\",\n",
    "    ],\n",
    "}"
   ]
  },
  {
   "cell_type": "code",
   "execution_count": 5,
   "metadata": {},
   "outputs": [],
   "source": [
    "def get_columns(store, key):\n",
    "    return store.select(key, stop=1).columns\n",
    "\n",
    "\n",
    "def transform(in_f, out_f, key, data_columns):\n",
    "    with pd.HDFStore(in_f, mode=\"r+\") as store:\n",
    "        df = store.select(key)\n",
    "        df.pipe(\n",
    "            lambda df: df.to_hdf(\n",
    "                out_f, key, format=\"table\", data_columns=data_columns, mode=\"a\"\n",
    "            )\n",
    "        )\n",
    "        store.close()"
   ]
  },
  {
   "cell_type": "code",
   "execution_count": 6,
   "metadata": {},
   "outputs": [
    {
     "name": "stdout",
     "output_type": "stream",
     "text": [
      "Transforming /classifications/hs_product\n",
      "Transforming /classifications/location\n",
      "Transforming /country\n",
      "Transforming /country_hsproduct2digit_year\n",
      "Transforming /country_hsproduct4digit_year\n",
      "Transforming /country_hsproduct6digit_year\n",
      "Transforming /country_hsproductsection_year\n",
      "Transforming /country_partner_hsproduct2digit_year\n",
      "Transforming /country_partner_hsproduct4digit_year\n"
     ]
    },
    {
     "name": "stderr",
     "output_type": "stream",
     "text": [
      "C:\\Users\\Iyed\\Miniconda3\\envs\\trade_policy_analysis\\lib\\site-packages\\tables\\leaf.py:357: RuntimeWarning: overflow encountered in long_scalars\n",
      "  expected_mb = (expectedrows * rowsize) // MB\n"
     ]
    },
    {
     "name": "stdout",
     "output_type": "stream",
     "text": [
      "Transforming /country_partner_hsproduct6digit_year\n",
      "Transforming /country_partner_hsproductsection_year\n"
     ]
    }
   ],
   "source": [
    "failed = []\n",
    "for key, columns in keys_columns.items():\n",
    "    try:\n",
    "        print(f\"Transforming {key}\")\n",
    "        transform(in_f, out_f, key, columns)\n",
    "    except Exception as e:\n",
    "        failed.append((key, e))\n",
    "        print(f\"error with {key}\")"
   ]
  },
  {
   "cell_type": "code",
   "execution_count": null,
   "metadata": {},
   "outputs": [],
   "source": [
    "failed"
   ]
  }
 ],
 "metadata": {
  "kernelspec": {
   "display_name": "Python [conda env:trade_policy_analysis] *",
   "language": "python",
   "name": "conda-env-trade_policy_analysis-py"
  },
  "language_info": {
   "codemirror_mode": {
    "name": "ipython",
    "version": 3
   },
   "file_extension": ".py",
   "mimetype": "text/x-python",
   "name": "python",
   "nbconvert_exporter": "python",
   "pygments_lexer": "ipython3",
   "version": "3.6.7"
  }
 },
 "nbformat": 4,
 "nbformat_minor": 2
}
